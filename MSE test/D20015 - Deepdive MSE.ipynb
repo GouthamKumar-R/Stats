{
 "cells": [
  {
   "cell_type": "markdown",
   "metadata": {
    "toc": true
   },
   "source": [
    "<h1>Table of Contents<span class=\"tocSkip\"></span></h1>\n",
    "<div class=\"toc\"><ul class=\"toc-item\"><li><span><a href=\"#ANOVA-:-ANalysis-Of-VAriance\" data-toc-modified-id=\"ANOVA-:-ANalysis-Of-VAriance-1\"><span class=\"toc-item-num\">1&nbsp;&nbsp;</span>ANOVA : ANalysis Of VAriance</a></span></li><li><span><a href=\"#One--way-ANOVA-(one-factor)\" data-toc-modified-id=\"One--way-ANOVA-(one-factor)-2\"><span class=\"toc-item-num\">2&nbsp;&nbsp;</span>One- way ANOVA (one factor)</a></span></li><li><span><a href=\"#Tukey's-Honestly-Significantly-differenced-Test\" data-toc-modified-id=\"Tukey's-Honestly-Significantly-differenced-Test-3\"><span class=\"toc-item-num\">3&nbsp;&nbsp;</span>Tukey's Honestly Significantly differenced Test</a></span></li><li><span><a href=\"#How-to-Test-the-Assumptions-of-ANOVA\" data-toc-modified-id=\"How-to-Test-the-Assumptions-of-ANOVA-4\"><span class=\"toc-item-num\">4&nbsp;&nbsp;</span>How to Test the Assumptions of ANOVA</a></span><ul class=\"toc-item\"><li><span><a href=\"#QQ-plot-and-Histogram\" data-toc-modified-id=\"QQ-plot-and-Histogram-4.1\"><span class=\"toc-item-num\">4.1&nbsp;&nbsp;</span>QQ plot and Histogram</a></span></li><li><span><a href=\"#Shapiro-Wilk-Test\" data-toc-modified-id=\"Shapiro-Wilk-Test-4.2\"><span class=\"toc-item-num\">4.2&nbsp;&nbsp;</span>Shapiro-Wilk Test</a></span></li><li><span><a href=\"#Bartlett’s-test\" data-toc-modified-id=\"Bartlett’s-test-4.3\"><span class=\"toc-item-num\">4.3&nbsp;&nbsp;</span>Bartlett’s test</a></span></li><li><span><a href=\"#Levene’s-test\" data-toc-modified-id=\"Levene’s-test-4.4\"><span class=\"toc-item-num\">4.4&nbsp;&nbsp;</span>Levene’s test</a></span></li></ul></li></ul></div>"
   ]
  },
  {
   "cell_type": "markdown",
   "metadata": {},
   "source": [
    "## ANOVA : ANalysis Of VAriance"
   ]
  },
  {
   "cell_type": "markdown",
   "metadata": {},
   "source": [
    "* ANOVA is the statistical test used to compare the means of more than 2 groups\n",
    "* Groups mean differences inferred by analyzing varainces, hence the name Analysis of Varaince\n",
    "* ANOVA uses variance based F test to check the group mean equality. The ANOVA F test is also called as omnibus test as it tests non-specific null hypothesis ,i.e. all group means are equal\n"
   ]
  },
  {
   "cell_type": "markdown",
   "metadata": {},
   "source": [
    "ANOVA Hypotheses: \n",
    "* Null hypotheses: Groups means are equal (no variation in means of groups)\n",
    "H0: μ1=μ2=…=μp\n",
    "* Alternative hypotheses: At least, one group mean is different from other groups\n",
    "H1: All μ are not equal"
   ]
  },
  {
   "cell_type": "markdown",
   "metadata": {},
   "source": [
    "ANOVA Assumptions:\n",
    "* Residuals (experimental error) are normally distributed (Shapiro-Wilks Test)\n",
    "* Homogeneity of variances (variances are equal between treatment groups) (Levene’s or Bartlett’s Test)\n",
    "* Observations are sampled independently from each other"
   ]
  },
  {
   "cell_type": "markdown",
   "metadata": {},
   "source": [
    "Steps:\n",
    "* Check sample sizes: equal number of observation in each group\n",
    "* Calculate Mean Square for each group (MS) (SS of group/level-1); level-1 is a degree of freedom (df) for a group\n",
    "* Calculate Mean Square error (MSE) (SS error/df of residuals)\n",
    "* Calculate F value (MS of group/MSE)"
   ]
  },
  {
   "cell_type": "markdown",
   "metadata": {},
   "source": [
    "## One- way ANOVA (one factor)"
   ]
  },
  {
   "cell_type": "code",
   "execution_count": 1,
   "metadata": {
    "ExecuteTime": {
     "end_time": "2021-02-15T04:54:05.690519Z",
     "start_time": "2021-02-15T04:54:05.670573Z"
    }
   },
   "outputs": [
    {
     "data": {
      "image/png": "[encoded data removed]",
      "text/plain": [
       "<IPython.core.display.Image object>"
      ]
     },
     "execution_count": 1,
     "metadata": {},
     "output_type": "execute_result"
    }
   ],
   "source": [
    "from IPython.display import Image\n",
    "Image(filename=r'C:\\Users\\Goutham-ROG\\Documents\\DS studies\\College\\2nd Sem - 20.0\\MSE - Multivariate Analysis and Econometrics - 3.0\\Assignment\\deepdive snips\\Oneway anova.png')"
   ]
  },
  {
   "cell_type": "code",
   "execution_count": 2,
   "metadata": {
    "ExecuteTime": {
     "end_time": "2021-02-15T04:54:57.941082Z",
     "start_time": "2021-02-15T04:54:57.918143Z"
    }
   },
   "outputs": [
    {
     "data": {
      "text/html": [
       "<div>\n",
       "<style scoped>\n",
       "    .dataframe tbody tr th:only-of-type {\n",
       "        vertical-align: middle;\n",
       "    }\n",
       "\n",
       "    .dataframe tbody tr th {\n",
       "        vertical-align: top;\n",
       "    }\n",
       "\n",
       "    .dataframe thead th {\n",
       "        text-align: right;\n",
       "    }\n",
       "</style>\n",
       "<table border=\"1\" class=\"dataframe\">\n",
       "  <thead>\n",
       "    <tr style=\"text-align: right;\">\n",
       "      <th></th>\n",
       "      <th>A</th>\n",
       "      <th>B</th>\n",
       "      <th>C</th>\n",
       "      <th>D</th>\n",
       "    </tr>\n",
       "  </thead>\n",
       "  <tbody>\n",
       "    <tr>\n",
       "      <th>0</th>\n",
       "      <td>25</td>\n",
       "      <td>45</td>\n",
       "      <td>30</td>\n",
       "      <td>54</td>\n",
       "    </tr>\n",
       "    <tr>\n",
       "      <th>1</th>\n",
       "      <td>30</td>\n",
       "      <td>55</td>\n",
       "      <td>29</td>\n",
       "      <td>60</td>\n",
       "    </tr>\n",
       "    <tr>\n",
       "      <th>2</th>\n",
       "      <td>28</td>\n",
       "      <td>29</td>\n",
       "      <td>33</td>\n",
       "      <td>51</td>\n",
       "    </tr>\n",
       "    <tr>\n",
       "      <th>3</th>\n",
       "      <td>36</td>\n",
       "      <td>56</td>\n",
       "      <td>37</td>\n",
       "      <td>62</td>\n",
       "    </tr>\n",
       "    <tr>\n",
       "      <th>4</th>\n",
       "      <td>29</td>\n",
       "      <td>40</td>\n",
       "      <td>27</td>\n",
       "      <td>73</td>\n",
       "    </tr>\n",
       "  </tbody>\n",
       "</table>\n",
       "</div>"
      ],
      "text/plain": [
       "    A   B   C   D\n",
       "0  25  45  30  54\n",
       "1  30  55  29  60\n",
       "2  28  29  33  51\n",
       "3  36  56  37  62\n",
       "4  29  40  27  73"
      ]
     },
     "execution_count": 2,
     "metadata": {},
     "output_type": "execute_result"
    }
   ],
   "source": [
    "#Let's Import our dataset\n",
    "import pandas as pd\n",
    "\n",
    "df = pd.read_csv(\"./data/One way Anova data.csv\")\n",
    "df"
   ]
  },
  {
   "cell_type": "markdown",
   "metadata": {},
   "source": [
    "In the given dataset, there are four treatment groups(A, B, C, D). The treatments are independent variable and termed as factor. <br/>\n",
    "For this experiment, there is only factor(treatments) or independent variables, therefore we can use one-way ANOVA test."
   ]
  },
  {
   "cell_type": "code",
   "execution_count": 3,
   "metadata": {
    "ExecuteTime": {
     "end_time": "2021-02-15T04:58:37.344286Z",
     "start_time": "2021-02-15T04:58:37.333315Z"
    }
   },
   "outputs": [],
   "source": [
    "#Let's reshape the ds so it is suitable for our statsmodel pckg\n",
    "df_melt = pd.melt(df.reset_index(), id_vars=['index'], value_vars=['A', 'B', 'C', 'D'])\n",
    "#Let's change the column names\n",
    "df_melt.columns = ['index', 'treatments', 'value']"
   ]
  },
  {
   "cell_type": "code",
   "execution_count": 7,
   "metadata": {
    "ExecuteTime": {
     "end_time": "2021-02-15T04:59:28.926355Z",
     "start_time": "2021-02-15T04:59:28.807674Z"
    }
   },
   "outputs": [
    {
     "data": {
      "image/png": "[encoded data removed]",
      "text/plain": [
       "<Figure size 576x504 with 1 Axes>"
      ]
     },
     "metadata": {},
     "output_type": "display_data"
    }
   ],
   "source": [
    "#Let's generate a boxplot to see the data distribution by treatments. Using boxplot, we can easily detect the differences between different treatments\n",
    "import matplotlib.pyplot as plt\n",
    "import seaborn as sns\n",
    "\n",
    "ax = sns.boxplot(x='treatments', y='value', data=df_melt, color='Orange')\n",
    "ax = sns.swarmplot(x=\"treatments\", y=\"value\", data=df_melt, color='Red')\n",
    "plt.show();"
   ]
  },
  {
   "cell_type": "code",
   "execution_count": 13,
   "metadata": {
    "ExecuteTime": {
     "end_time": "2021-02-15T05:02:00.441943Z",
     "start_time": "2021-02-15T05:02:00.436956Z"
    }
   },
   "outputs": [
    {
     "name": "stdout",
     "output_type": "stream",
     "text": [
      "F value: 17.492810457516338 \n",
      " p-value: 2.639241146210922e-05\n"
     ]
    }
   ],
   "source": [
    "# load packages\n",
    "import scipy.stats as stats\n",
    "\n",
    "# stats f_oneway functions takes the groups as input and returns ANOVA F and p value\n",
    "fvalue, pvalue = stats.f_oneway(df['A'], df['B'], df['C'], df['D'])\n",
    "\n",
    "print(\"F value:\",fvalue,\"\\n p-value:\",pvalue)"
   ]
  },
  {
   "cell_type": "code",
   "execution_count": 14,
   "metadata": {
    "ExecuteTime": {
     "end_time": "2021-02-15T05:02:36.800732Z",
     "start_time": "2021-02-15T05:02:36.594285Z"
    }
   },
   "outputs": [
    {
     "data": {
      "text/html": [
       "<div>\n",
       "<style scoped>\n",
       "    .dataframe tbody tr th:only-of-type {\n",
       "        vertical-align: middle;\n",
       "    }\n",
       "\n",
       "    .dataframe tbody tr th {\n",
       "        vertical-align: top;\n",
       "    }\n",
       "\n",
       "    .dataframe thead th {\n",
       "        text-align: right;\n",
       "    }\n",
       "</style>\n",
       "<table border=\"1\" class=\"dataframe\">\n",
       "  <thead>\n",
       "    <tr style=\"text-align: right;\">\n",
       "      <th></th>\n",
       "      <th>sum_sq</th>\n",
       "      <th>df</th>\n",
       "      <th>F</th>\n",
       "      <th>PR(&gt;F)</th>\n",
       "    </tr>\n",
       "  </thead>\n",
       "  <tbody>\n",
       "    <tr>\n",
       "      <th>C(treatments)</th>\n",
       "      <td>3010.95</td>\n",
       "      <td>3.0</td>\n",
       "      <td>17.49281</td>\n",
       "      <td>0.000026</td>\n",
       "    </tr>\n",
       "    <tr>\n",
       "      <th>Residual</th>\n",
       "      <td>918.00</td>\n",
       "      <td>16.0</td>\n",
       "      <td>NaN</td>\n",
       "      <td>NaN</td>\n",
       "    </tr>\n",
       "  </tbody>\n",
       "</table>\n",
       "</div>"
      ],
      "text/plain": [
       "                sum_sq    df         F    PR(>F)\n",
       "C(treatments)  3010.95   3.0  17.49281  0.000026\n",
       "Residual        918.00  16.0       NaN       NaN"
      ]
     },
     "execution_count": 14,
     "metadata": {},
     "output_type": "execute_result"
    }
   ],
   "source": [
    "#To get ANOVA table as R like output, we have to run OLS from stats pckg\n",
    "import statsmodels.api as sm\n",
    "from statsmodels.formula.api import ols\n",
    "\n",
    "# Ordinary Least Squares (OLS) model\n",
    "model = ols('value ~ C(treatments)', data=df_melt).fit()\n",
    "anova_table = sm.stats.anova_lm(model, typ=2)\n",
    "anova_table"
   ]
  },
  {
   "cell_type": "markdown",
   "metadata": {},
   "source": [
    "> Result: \n",
    "The p value obtained from ANOVA analysis is significant (p < 0.05), and therefore, we conclude that there are significant differences among treatments"
   ]
  },
  {
   "cell_type": "markdown",
   "metadata": {},
   "source": [
    "## Tukey's Honestly Significantly differenced Test"
   ]
  },
  {
   "cell_type": "markdown",
   "metadata": {},
   "source": [
    "From the above ANOVA analysis, we know that treatment differences are statistically significant, but ANOVA does not tell which treatments are significantly different from each other. To know the pairs of significant different treatments, we will perform multiple pairwise comparison (post hoc comparison) analysis for all unplanned comparison using **Tukey’s honestly significantly differenced (HSD)** test."
   ]
  },
  {
   "cell_type": "markdown",
   "metadata": {},
   "source": [
    "Tukey’s HSD test accounts for multiple comparisons and corrects for family-wise error rate (FWER) (inflated type I error)"
   ]
  },
  {
   "cell_type": "code",
   "execution_count": 15,
   "metadata": {
    "ExecuteTime": {
     "end_time": "2021-02-15T05:06:30.255222Z",
     "start_time": "2021-02-15T05:06:30.237269Z"
    }
   },
   "outputs": [
    {
     "data": {
      "image/png": "[encoded data removed]",
      "text/plain": [
       "<IPython.core.display.Image object>"
      ]
     },
     "execution_count": 15,
     "metadata": {},
     "output_type": "execute_result"
    }
   ],
   "source": [
    "from IPython.display import Image\n",
    "Image(filename=r'C:\\Users\\Goutham-ROG\\Documents\\DS studies\\College\\2nd Sem - 20.0\\MSE - Multivariate Analysis and Econometrics - 3.0\\Assignment\\deepdive snips\\Tukey.png')"
   ]
  },
  {
   "cell_type": "code",
   "execution_count": 17,
   "metadata": {
    "ExecuteTime": {
     "end_time": "2021-02-15T05:08:30.443089Z",
     "start_time": "2021-02-15T05:08:30.368289Z"
    }
   },
   "outputs": [
    {
     "data": {
      "text/html": [
       "<div>\n",
       "<style scoped>\n",
       "    .dataframe tbody tr th:only-of-type {\n",
       "        vertical-align: middle;\n",
       "    }\n",
       "\n",
       "    .dataframe tbody tr th {\n",
       "        vertical-align: top;\n",
       "    }\n",
       "\n",
       "    .dataframe thead th {\n",
       "        text-align: right;\n",
       "    }\n",
       "</style>\n",
       "<table border=\"1\" class=\"dataframe\">\n",
       "  <thead>\n",
       "    <tr style=\"text-align: right;\">\n",
       "      <th></th>\n",
       "      <th>group1</th>\n",
       "      <th>group2</th>\n",
       "      <th>Diff</th>\n",
       "      <th>Lower</th>\n",
       "      <th>Upper</th>\n",
       "      <th>q-value</th>\n",
       "      <th>p-value</th>\n",
       "    </tr>\n",
       "  </thead>\n",
       "  <tbody>\n",
       "    <tr>\n",
       "      <th>0</th>\n",
       "      <td>A</td>\n",
       "      <td>B</td>\n",
       "      <td>15.4</td>\n",
       "      <td>1.692871</td>\n",
       "      <td>29.107129</td>\n",
       "      <td>4.546156</td>\n",
       "      <td>0.025070</td>\n",
       "    </tr>\n",
       "    <tr>\n",
       "      <th>1</th>\n",
       "      <td>A</td>\n",
       "      <td>C</td>\n",
       "      <td>1.6</td>\n",
       "      <td>-12.107129</td>\n",
       "      <td>15.307129</td>\n",
       "      <td>0.472328</td>\n",
       "      <td>0.900000</td>\n",
       "    </tr>\n",
       "    <tr>\n",
       "      <th>2</th>\n",
       "      <td>A</td>\n",
       "      <td>D</td>\n",
       "      <td>30.4</td>\n",
       "      <td>16.692871</td>\n",
       "      <td>44.107129</td>\n",
       "      <td>8.974231</td>\n",
       "      <td>0.001000</td>\n",
       "    </tr>\n",
       "    <tr>\n",
       "      <th>3</th>\n",
       "      <td>B</td>\n",
       "      <td>C</td>\n",
       "      <td>13.8</td>\n",
       "      <td>0.092871</td>\n",
       "      <td>27.507129</td>\n",
       "      <td>4.073828</td>\n",
       "      <td>0.048178</td>\n",
       "    </tr>\n",
       "    <tr>\n",
       "      <th>4</th>\n",
       "      <td>B</td>\n",
       "      <td>D</td>\n",
       "      <td>15.0</td>\n",
       "      <td>1.292871</td>\n",
       "      <td>28.707129</td>\n",
       "      <td>4.428074</td>\n",
       "      <td>0.029578</td>\n",
       "    </tr>\n",
       "    <tr>\n",
       "      <th>5</th>\n",
       "      <td>C</td>\n",
       "      <td>D</td>\n",
       "      <td>28.8</td>\n",
       "      <td>15.092871</td>\n",
       "      <td>42.507129</td>\n",
       "      <td>8.501903</td>\n",
       "      <td>0.001000</td>\n",
       "    </tr>\n",
       "  </tbody>\n",
       "</table>\n",
       "</div>"
      ],
      "text/plain": [
       "  group1 group2  Diff      Lower      Upper   q-value   p-value\n",
       "0      A      B  15.4   1.692871  29.107129  4.546156  0.025070\n",
       "1      A      C   1.6 -12.107129  15.307129  0.472328  0.900000\n",
       "2      A      D  30.4  16.692871  44.107129  8.974231  0.001000\n",
       "3      B      C  13.8   0.092871  27.507129  4.073828  0.048178\n",
       "4      B      D  15.0   1.292871  28.707129  4.428074  0.029578\n",
       "5      C      D  28.8  15.092871  42.507129  8.501903  0.001000"
      ]
     },
     "execution_count": 17,
     "metadata": {},
     "output_type": "execute_result"
    }
   ],
   "source": [
    "#Let's use this bioinfokit to analyse tukeys test\n",
    "from bioinfokit.analys import stat\n",
    "\n",
    "#unequal sample size data, tukey_hsd uses Tukey-Kramer test\n",
    "result = stat()\n",
    "result.tukey_hsd(df=df_melt, res_var='value', xfac_var='treatments', anova_model='value ~ C(treatments)')\n",
    "#summary\n",
    "result.tukey_summary"
   ]
  },
  {
   "cell_type": "markdown",
   "metadata": {},
   "source": [
    "> Above results from Tukey’s HSD suggests that except A-C, all other pairwise comparisons for treatments rejects null hypothesis (p < 0.05) and indicates statistical significant differences."
   ]
  },
  {
   "cell_type": "markdown",
   "metadata": {},
   "source": [
    "Note: Tukey's HSD test is conservative and increases the critical value to control the experimentwise type I error rate. If you have a large number of comparisons (say > 10 or 20) to make using Tukey's test, there may be chances that you may not get significant results for all or expected pairs. If you are interested in only specific or few comparisons and you won't find significant differences using Tukey's test, you may split the data for specific comparisons or use the t-test"
   ]
  },
  {
   "cell_type": "markdown",
   "metadata": {},
   "source": [
    "## How to Test the Assumptions of ANOVA"
   ]
  },
  {
   "cell_type": "markdown",
   "metadata": {
    "ExecuteTime": {
     "end_time": "2021-02-15T05:15:24.042242Z",
     "start_time": "2021-02-15T05:15:24.030274Z"
    }
   },
   "source": [
    "ANOVA Assumptions:\n",
    "* Residuals (experimental error) are normally distributed (Shapiro-Wilks Test)\n",
    "* Homogeneity of variances (variances are equal between treatment groups) (Levene’s or Bartlett’s Test)\n",
    "* Observations are sampled independently from each other"
   ]
  },
  {
   "cell_type": "markdown",
   "metadata": {},
   "source": [
    "* ANOVA assumptions can be checked using test statistics (e.g. Shapiro-Wilk, Bartlett’s, Levene’s test) and the visual approaches such as residual plots (e.g. QQ-plots) and histograms.\n",
    "* The visual approaches perform better than statistical tests. For example, the Shapiro-Wilk test has low power for small sample size data and deviates significantly from normality for large sample sizes."
   ]
  },
  {
   "cell_type": "markdown",
   "metadata": {},
   "source": [
    "### QQ plot and Histogram"
   ]
  },
  {
   "cell_type": "code",
   "execution_count": 19,
   "metadata": {
    "ExecuteTime": {
     "end_time": "2021-02-15T05:16:39.742124Z",
     "start_time": "2021-02-15T05:16:39.616283Z"
    }
   },
   "outputs": [
    {
     "data": {
      "image/png": "[encoded data removed]",
      "text/plain": [
       "<Figure size 576x504 with 1 Axes>"
      ]
     },
     "metadata": {},
     "output_type": "display_data"
    }
   ],
   "source": [
    "#Let's generate QQ plot\n",
    "import statsmodels.api as sm\n",
    "\n",
    "# result.anova_std_residuals are standardized residuals obtained from ANOVA (check above)\n",
    "sm.qqplot(result.anova_std_residuals, line='45')\n",
    "plt.xlabel(\"Theoretical Quantiles\")\n",
    "plt.ylabel(\"Standardized Residuals\")\n",
    "plt.show();"
   ]
  },
  {
   "cell_type": "markdown",
   "metadata": {},
   "source": [
    ">The standardized residuals lie around the 45-degree line, it suggests that the residuals are approximately normally distributed"
   ]
  },
  {
   "cell_type": "code",
   "execution_count": 20,
   "metadata": {
    "ExecuteTime": {
     "end_time": "2021-02-15T05:16:50.909957Z",
     "start_time": "2021-02-15T05:16:50.783293Z"
    }
   },
   "outputs": [
    {
     "data": {
      "image/png": "[encoded data removed]",
      "text/plain": [
       "<Figure size 576x504 with 1 Axes>"
      ]
     },
     "metadata": {},
     "output_type": "display_data"
    }
   ],
   "source": [
    "# histogram\n",
    "plt.hist(result.anova_model_out.resid, bins='auto', histtype='bar', ec='k') \n",
    "plt.xlabel(\"Residuals\")\n",
    "plt.ylabel('Frequency')\n",
    "plt.show()"
   ]
  },
  {
   "cell_type": "markdown",
   "metadata": {},
   "source": [
    "> In the histogram, the distribution looks approximately normal and suggests that residuals are approximately normally distributed"
   ]
  },
  {
   "cell_type": "markdown",
   "metadata": {},
   "source": [
    "### Shapiro-Wilk Test"
   ]
  },
  {
   "cell_type": "markdown",
   "metadata": {},
   "source": [
    "Shapiro-Wilk test can be used to check the normal distribution of residuals. Null hypothesis: data is drawn from normal distribution."
   ]
  },
  {
   "cell_type": "code",
   "execution_count": 23,
   "metadata": {
    "ExecuteTime": {
     "end_time": "2021-02-15T05:20:54.114248Z",
     "start_time": "2021-02-15T05:20:54.099288Z"
    }
   },
   "outputs": [
    {
     "name": "stdout",
     "output_type": "stream",
     "text": [
      "Test statistic:: 0.9685019850730896 \n",
      "p-value: 0.7229772806167603\n"
     ]
    }
   ],
   "source": [
    "#Let's load packages\n",
    "import scipy.stats as stats\n",
    "w, pvalue = stats.shapiro(model.resid)\n",
    "print(\"Test statistic::\", w,\"\\np-value:\",pvalue)"
   ]
  },
  {
   "cell_type": "markdown",
   "metadata": {},
   "source": [
    ">As the p value is non significant, we fail to reject null hypothesis and conclude that data is drawn from normal distribution."
   ]
  },
  {
   "cell_type": "markdown",
   "metadata": {},
   "source": [
    "### Bartlett’s test"
   ]
  },
  {
   "cell_type": "markdown",
   "metadata": {},
   "source": [
    "Now we know, the data is drawn from normal distribution, use Bartlett’s test to check the **Homogeneity of variances**. Null hypothesis: samples from populations have equal variances."
   ]
  },
  {
   "cell_type": "code",
   "execution_count": 24,
   "metadata": {
    "ExecuteTime": {
     "end_time": "2021-02-15T05:20:55.725262Z",
     "start_time": "2021-02-15T05:20:55.717284Z"
    }
   },
   "outputs": [
    {
     "name": "stdout",
     "output_type": "stream",
     "text": [
      "Test statistic: 5.687843565012841 \n",
      "p-value: 0.1278253399753447\n"
     ]
    }
   ],
   "source": [
    "# load packages\n",
    "import scipy.stats as stats\n",
    "w, pvalue = stats.bartlett(df['A'], df['B'], df['C'], df['D'])\n",
    "print(\"Test statistic:\",w,\"\\np-value:\", pvalue)"
   ]
  },
  {
   "cell_type": "markdown",
   "metadata": {},
   "source": [
    "> As the p value (0.12) is non significant, we fail to reject null hypothesis and conclude that treatments have equal variances"
   ]
  },
  {
   "cell_type": "markdown",
   "metadata": {},
   "source": [
    "### Levene’s test"
   ]
  },
  {
   "cell_type": "markdown",
   "metadata": {},
   "source": [
    "Levene’s test can be used to check the Homogeneity of variances when the data is not drawn from normal distribution"
   ]
  },
  {
   "cell_type": "code",
   "execution_count": 25,
   "metadata": {
    "ExecuteTime": {
     "end_time": "2021-02-15T05:22:28.865269Z",
     "start_time": "2021-02-15T05:22:28.845323Z"
    }
   },
   "outputs": [
    {
     "data": {
      "text/html": [
       "<div>\n",
       "<style scoped>\n",
       "    .dataframe tbody tr th:only-of-type {\n",
       "        vertical-align: middle;\n",
       "    }\n",
       "\n",
       "    .dataframe tbody tr th {\n",
       "        vertical-align: top;\n",
       "    }\n",
       "\n",
       "    .dataframe thead th {\n",
       "        text-align: right;\n",
       "    }\n",
       "</style>\n",
       "<table border=\"1\" class=\"dataframe\">\n",
       "  <thead>\n",
       "    <tr style=\"text-align: right;\">\n",
       "      <th></th>\n",
       "      <th>Parameter</th>\n",
       "      <th>Value</th>\n",
       "    </tr>\n",
       "  </thead>\n",
       "  <tbody>\n",
       "    <tr>\n",
       "      <th>0</th>\n",
       "      <td>Test statistics (W)</td>\n",
       "      <td>1.9220</td>\n",
       "    </tr>\n",
       "    <tr>\n",
       "      <th>1</th>\n",
       "      <td>Degrees of freedom (Df)</td>\n",
       "      <td>3.0000</td>\n",
       "    </tr>\n",
       "    <tr>\n",
       "      <th>2</th>\n",
       "      <td>p value</td>\n",
       "      <td>0.1667</td>\n",
       "    </tr>\n",
       "  </tbody>\n",
       "</table>\n",
       "</div>"
      ],
      "text/plain": [
       "                 Parameter   Value\n",
       "0      Test statistics (W)  1.9220\n",
       "1  Degrees of freedom (Df)  3.0000\n",
       "2                  p value  0.1667"
      ]
     },
     "execution_count": 25,
     "metadata": {},
     "output_type": "execute_result"
    }
   ],
   "source": [
    "#We can get this from bioinfokit lib\n",
    "\n",
    "result.levene(df=df_melt, res_var='value', xfac_var='treatments')\n",
    "result.levene_summary"
   ]
  },
  {
   "cell_type": "code",
   "execution_count": null,
   "metadata": {},
   "outputs": [],
   "source": []
  }
 ],
 "metadata": {
  "kernelspec": {
   "display_name": "Python 3",
   "language": "python",
   "name": "python3"
  },
  "language_info": {
   "codemirror_mode": {
    "name": "ipython",
    "version": 3
   },
   "file_extension": ".py",
   "mimetype": "text/x-python",
   "name": "python",
   "nbconvert_exporter": "python",
   "pygments_lexer": "ipython3",
   "version": "3.8.3"
  },
  "toc": {
   "base_numbering": 1,
   "nav_menu": {},
   "number_sections": true,
   "sideBar": true,
   "skip_h1_title": true,
   "title_cell": "Table of Contents",
   "title_sidebar": "Contents",
   "toc_cell": true,
   "toc_position": {
    "height": "calc(100% - 180px)",
    "left": "10px",
    "top": "150px",
    "width": "240px"
   },
   "toc_section_display": true,
   "toc_window_display": true
  }
 },
 "nbformat": 4,
 "nbformat_minor": 4
}
